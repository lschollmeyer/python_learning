{
 "cells": [
  {
   "cell_type": "code",
   "execution_count": 1,
   "metadata": {},
   "outputs": [
    {
     "name": "stderr",
     "output_type": "stream",
     "text": [
      "Using TensorFlow backend.\n"
     ]
    }
   ],
   "source": [
    "import sys\n",
    "import numpy\n",
    "from keras.models import Sequential\n",
    "from keras.layers import Dense\n",
    "from keras.layers import Dropout\n",
    "from keras.layers import LSTM\n",
    "from keras.callbacks import ModelCheckpoint\n",
    "from keras.utils import np_utils"
   ]
  },
  {
   "cell_type": "code",
   "execution_count": null,
   "metadata": {
    "collapsed": true
   },
   "outputs": [],
   "source": []
  },
  {
   "cell_type": "code",
   "execution_count": 12,
   "metadata": {},
   "outputs": [
    {
     "name": "stdout",
     "output_type": "stream",
     "text": [
      "Total Characters:  527\n",
      "Total Vocab:  36\n"
     ]
    }
   ],
   "source": [
    "# load ascii text and covert to lowercase\n",
    "filename = \"data/products.txt\"\n",
    "raw_text = open(filename).read()\n",
    "raw_text = raw_text.lower()\n",
    "# create mapping of unique chars to integers, and a reverse mapping\n",
    "chars = sorted(list(set(raw_text)))\n",
    "char_to_int = dict((c, i) for i, c in enumerate(chars))\n",
    "int_to_char = dict((i, c) for i, c in enumerate(chars))\n",
    "# summarize the loaded data\n",
    "n_chars = len(raw_text)\n",
    "n_vocab = len(chars)\n",
    "print (\"Total Characters: \", n_chars)\n",
    "print (\"Total Vocab: \", n_vocab)"
   ]
  },
  {
   "cell_type": "code",
   "execution_count": 13,
   "metadata": {},
   "outputs": [
    {
     "name": "stdout",
     "output_type": "stream",
     "text": [
      "Total Patterns:  427\n"
     ]
    }
   ],
   "source": [
    "# Load Larger LSTM network and generate text\n",
    "\n",
    "\n",
    "# prepare the dataset of input to output pairs encoded as integers\n",
    "seq_length = 100\n",
    "dataX = []\n",
    "dataY = []\n",
    "for i in range(0, n_chars - seq_length, 1):\n",
    "    seq_in = raw_text[i:i + seq_length]\n",
    "    seq_out = raw_text[i + seq_length]\n",
    "    dataX.append([char_to_int[char] for char in seq_in])\n",
    "    dataY.append(char_to_int[seq_out])\n",
    "n_patterns = len(dataX)\n",
    "print (\"Total Patterns: \", n_patterns)\n",
    "# reshape X to be [samples, time steps, features]\n",
    "X = numpy.reshape(dataX, (n_patterns, seq_length, 1))\n",
    "# normalize\n",
    "X = X / float(n_vocab)\n",
    "# one hot encode the output variable\n",
    "y = np_utils.to_categorical(dataY)"
   ]
  },
  {
   "cell_type": "code",
   "execution_count": 15,
   "metadata": {},
   "outputs": [
    {
     "name": "stdout",
     "output_type": "stream",
     "text": [
      "Epoch 1/10\n",
      "384/427 [=========================>....] - ETA: 2s - loss: 3.4682\n",
      "Epoch 00001: loss improved from inf to 3.37348, saving model to weights-improvement-01-3.3735-bigger.hdf5\n",
      "427/427 [==============================] - 21s 49ms/step - loss: 3.3735\n",
      "Epoch 2/10\n",
      "384/427 [=========================>....] - ETA: 1s - loss: 3.1644\n",
      "Epoch 00002: loss improved from 3.37348 to 3.16337, saving model to weights-improvement-02-3.1634-bigger.hdf5\n",
      "427/427 [==============================] - 18s 43ms/step - loss: 3.1634\n",
      "Epoch 3/10\n",
      "384/427 [=========================>....] - ETA: 1s - loss: 3.0727\n",
      "Epoch 00003: loss improved from 3.16337 to 3.05539, saving model to weights-improvement-03-3.0554-bigger.hdf5\n",
      "427/427 [==============================] - 20s 46ms/step - loss: 3.0554\n",
      "Epoch 4/10\n",
      "384/427 [=========================>....] - ETA: 1s - loss: 3.0673\n",
      "Epoch 00004: loss did not improve\n",
      "427/427 [==============================] - 18s 42ms/step - loss: 3.0628\n",
      "Epoch 5/10\n",
      "384/427 [=========================>....] - ETA: 1s - loss: 3.0532\n",
      "Epoch 00005: loss improved from 3.05539 to 3.05108, saving model to weights-improvement-05-3.0511-bigger.hdf5\n",
      "427/427 [==============================] - 17s 40ms/step - loss: 3.0511\n",
      "Epoch 6/10\n",
      "384/427 [=========================>....] - ETA: 1s - loss: 3.0076\n",
      "Epoch 00006: loss improved from 3.05108 to 3.03376, saving model to weights-improvement-06-3.0338-bigger.hdf5\n",
      "427/427 [==============================] - 16s 38ms/step - loss: 3.0338\n",
      "Epoch 7/10\n",
      "384/427 [=========================>....] - ETA: 1s - loss: 3.0583\n",
      "Epoch 00007: loss did not improve\n",
      "427/427 [==============================] - 19s 44ms/step - loss: 3.0493\n",
      "Epoch 8/10\n",
      "384/427 [=========================>....] - ETA: 1s - loss: 3.0384\n",
      "Epoch 00008: loss did not improve\n",
      "427/427 [==============================] - 18s 41ms/step - loss: 3.0483\n",
      "Epoch 9/10\n",
      "384/427 [=========================>....] - ETA: 1s - loss: 3.0420\n",
      "Epoch 00009: loss did not improve\n",
      "427/427 [==============================] - 18s 42ms/step - loss: 3.0409\n",
      "Epoch 10/10\n",
      "384/427 [=========================>....] - ETA: 1s - loss: 3.0576\n",
      "Epoch 00010: loss did not improve\n",
      "427/427 [==============================] - 17s 40ms/step - loss: 3.0462\n"
     ]
    },
    {
     "data": {
      "text/plain": [
       "<keras.callbacks.History at 0x1602bfacba8>"
      ]
     },
     "execution_count": 15,
     "metadata": {},
     "output_type": "execute_result"
    }
   ],
   "source": [
    "model = Sequential()\n",
    "model.add(LSTM(256, input_shape=(X.shape[1], X.shape[2]), return_sequences=True))\n",
    "model.add(Dropout(0.2))\n",
    "model.add(LSTM(256))\n",
    "model.add(Dropout(0.2))\n",
    "model.add(Dense(y.shape[1], activation='softmax'))\n",
    "model.compile(loss='categorical_crossentropy', optimizer='adam')\n",
    "\n",
    "filepath=\"weights-improvement-{epoch:02d}-{loss:.4f}-bigger.hdf5\"\n",
    "checkpoint = ModelCheckpoint(filepath, monitor='loss', verbose=1, save_best_only=True, mode='min')\n",
    "callbacks_list = [checkpoint]\n",
    "# fit the model\n",
    "model.fit(X, y, epochs=10, batch_size=64, callbacks=callbacks_list)"
   ]
  },
  {
   "cell_type": "code",
   "execution_count": 22,
   "metadata": {},
   "outputs": [
    {
     "name": "stdout",
     "output_type": "stream",
     "text": [
      "Seed:\n",
      "\" rce plus\n",
      " chaga\n",
      " caveman true paleo formula\n",
      " colloidal silver\n",
      " silver bullet\n",
      " sun potion\n",
      " wake up am \"\n",
      "[' ', ' ', ' ', ' ', ' ', ' ', ' ', ' ', ' ', ' ']\n",
      "\n",
      "Done.\n"
     ]
    }
   ],
   "source": [
    "\n",
    "# pick a random seed\n",
    "start = numpy.random.randint(0, len(dataX)-1)\n",
    "pattern = dataX[start]\n",
    "print (\"Seed:\")\n",
    "print (\"\\\"\", ''.join([int_to_char[value] for value in pattern]), \"\\\"\")\n",
    "# generate characters\n",
    "res = []\n",
    "for i in range(10):\n",
    "    x = numpy.reshape(pattern, (1, len(pattern), 1))\n",
    "    x = x / float(n_vocab)\n",
    "    prediction = model.predict(x, verbose=0)\n",
    "    index = numpy.argmax(prediction)\n",
    "    result = int_to_char[index]\n",
    "    seq_in = [int_to_char[value] for value in pattern]\n",
    "#     sys.stdout.write(result)\n",
    "    res.append(result)\n",
    "    pattern.append(index)\n",
    "    pattern = pattern[1:len(pattern)]\n",
    "print(res)\n",
    "print (\"\\nDone.\")"
   ]
  },
  {
   "cell_type": "code",
   "execution_count": null,
   "metadata": {
    "collapsed": true
   },
   "outputs": [],
   "source": []
  }
 ],
 "metadata": {
  "kernelspec": {
   "display_name": "Python 3",
   "language": "python",
   "name": "python3"
  },
  "language_info": {
   "codemirror_mode": {
    "name": "ipython",
    "version": 3
   },
   "file_extension": ".py",
   "mimetype": "text/x-python",
   "name": "python",
   "nbconvert_exporter": "python",
   "pygments_lexer": "ipython3",
   "version": "3.6.3"
  }
 },
 "nbformat": 4,
 "nbformat_minor": 2
}
