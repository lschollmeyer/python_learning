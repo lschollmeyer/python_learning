{
 "cells": [
  {
   "cell_type": "code",
   "execution_count": 1,
   "metadata": {
    "collapsed": true
   },
   "outputs": [],
   "source": [
    "def name_generator(names):\n",
    "    for name in names:\n",
    "        yield name"
   ]
  },
  {
   "cell_type": "code",
   "execution_count": 7,
   "metadata": {
    "collapsed": true
   },
   "outputs": [],
   "source": [
    "students = name_generator(['Luke', 'Christina', 'Bailey', 'Eli', 'Aiden', 'Collin'])"
   ]
  },
  {
   "cell_type": "code",
   "execution_count": 3,
   "metadata": {},
   "outputs": [
    {
     "data": {
      "text/plain": [
       "['Luke', 'Christina', 'Bailey', 'Eli', 'Aiden', 'Collin']"
      ]
     },
     "execution_count": 3,
     "metadata": {},
     "output_type": "execute_result"
    }
   ],
   "source": [
    "list(students)"
   ]
  },
  {
   "cell_type": "code",
   "execution_count": 9,
   "metadata": {},
   "outputs": [
    {
     "data": {
      "text/plain": [
       "'Christina'"
      ]
     },
     "execution_count": 9,
     "metadata": {},
     "output_type": "execute_result"
    }
   ],
   "source": [
    "next(students)"
   ]
  },
  {
   "cell_type": "code",
   "execution_count": 14,
   "metadata": {},
   "outputs": [
    {
     "data": {
      "text/plain": [
       "['Invalid',\n",
       " 'Valid',\n",
       " 'Invalid',\n",
       " 'Valid',\n",
       " 'Invalid',\n",
       " 'Invalid',\n",
       " 'Invalid',\n",
       " 'Invalid',\n",
       " 'Invalid',\n",
       " 'Invalid',\n",
       " 'Invalid',\n",
       " 'Invalid',\n",
       " 'Invalid',\n",
       " 'Invalid',\n",
       " 'Invalid']"
      ]
     },
     "execution_count": 14,
     "metadata": {},
     "output_type": "execute_result"
    }
   ],
   "source": [
    "words = ['Egypt', 'Alexandia', 'Water']\n",
    "vowels = ['A', 'E', 'I', 'O', 'U']\n",
    "\n",
    "result = ['Valid' if word.startswith(x) else 'Invalid' for x in vowels for word in words ]\n",
    "result"
   ]
  },
  {
   "cell_type": "code",
   "execution_count": null,
   "metadata": {
    "collapsed": true
   },
   "outputs": [],
   "source": []
  }
 ],
 "metadata": {
  "kernelspec": {
   "display_name": "Python 3",
   "language": "python",
   "name": "python3"
  },
  "language_info": {
   "codemirror_mode": {
    "name": "ipython",
    "version": 3
   },
   "file_extension": ".py",
   "mimetype": "text/x-python",
   "name": "python",
   "nbconvert_exporter": "python",
   "pygments_lexer": "ipython3",
   "version": "3.6.3"
  }
 },
 "nbformat": 4,
 "nbformat_minor": 2
}
